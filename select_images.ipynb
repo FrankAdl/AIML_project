{
 "cells": [
  {
   "cell_type": "code",
   "execution_count": 1,
   "metadata": {},
   "outputs": [],
   "source": [
    "import os, random, shutil\n",
    "import cv2\n",
    "import sys\n",
    "import re\n",
    "from PIL import Image\n",
    "import numpy as np"
   ]
  },
  {
   "cell_type": "code",
   "execution_count": 2,
   "metadata": {},
   "outputs": [],
   "source": [
    "fileDir = \"/home/xiufeng/Code/origin_images/files/\"\n",
    "tarDir = \"/home/xiufeng/Code/selected_images/1000_selected_images/\""
   ]
  },
  {
   "cell_type": "code",
   "execution_count": 3,
   "metadata": {},
   "outputs": [],
   "source": [
    "# Randomly select 1000 images"
   ]
  },
  {
   "cell_type": "code",
   "execution_count": 4,
   "metadata": {},
   "outputs": [],
   "source": [
    "def moveFile(fileDir):\n",
    "        pathDir = os.listdir(fileDir) # get images' dir\n",
    "        # print(pathDir)\n",
    "        filenumber=len(pathDir)\n",
    "        # print(filenumber)\n",
    "        # setting rates of number of images\n",
    "        picknumber=1000 # extract images base on the rate\n",
    "        sample = random.sample(pathDir, picknumber)  # randomly select the certain number of images\n",
    "        print (\"Number of selected images: \", picknumber)\n",
    "        for name in sample:\n",
    "                shutil.copy(fileDir+name, tarDir+name)\n",
    "        return"
   ]
  },
  {
   "cell_type": "code",
   "execution_count": 5,
   "metadata": {},
   "outputs": [
    {
     "name": "stdout",
     "output_type": "stream",
     "text": [
      "Number of selected images:  1000\n"
     ]
    }
   ],
   "source": [
    "moveFile(fileDir) #fg image"
   ]
  },
  {
   "cell_type": "code",
   "execution_count": 6,
   "metadata": {},
   "outputs": [
    {
     "name": "stdout",
     "output_type": "stream",
     "text": [
      "Number of selected images:  1000\n"
     ]
    }
   ],
   "source": [
    "bg_dir = \"/home/xiufeng/Code/coco_2017/val2017/\"\n",
    "tarDir = \"/home/xiufeng/Code/selected_images/1000_background/\"\n",
    "moveFile(bg_dir)"
   ]
  },
  {
   "cell_type": "code",
   "execution_count": 7,
   "metadata": {},
   "outputs": [],
   "source": [
    "# Extract foreground and alpha value"
   ]
  },
  {
   "cell_type": "code",
   "execution_count": 8,
   "metadata": {},
   "outputs": [],
   "source": [
    "fgDir = \"/home/xiufeng/Code/selected_images/image_foreground/\"\n",
    "alDir = \"/home/xiufeng/Code/selected_images/image_alpha/\""
   ]
  },
  {
   "cell_type": "code",
   "execution_count": 9,
   "metadata": {},
   "outputs": [],
   "source": [
    "# extract alpha and foreground\n",
    "tarDir = \"/home/xiufeng/Code/selected_images/1000_selected_images/\"\n",
    "img_names = os.listdir(tarDir)\n",
    "for name in img_names:\n",
    "    img = Image.open(tarDir + name)\n",
    "    img_array = np.array(img)\n",
    "    alpha = img_array[:, :, 3]\n",
    "    fg = np.delete(img_array, 3, axis = 2)\n",
    "    Image.fromarray(alpha).convert(\"L\").save(alDir + name[:-4] + \".jpg\", \"JPEG\")\n",
    "    Image.fromarray(fg).save(fgDir + name[:-4] + \".jpg\", \"JPEG\")\n",
    "    \n",
    "    "
   ]
  },
  {
   "cell_type": "code",
   "execution_count": 10,
   "metadata": {},
   "outputs": [],
   "source": [
    "# extract file path and save to a txt file\n",
    "def listdir(path, bg_path):\n",
    "    al_path_list = []\n",
    "    fg_path_list = []    \n",
    "    ##### write relative path\n",
    "    for file in os.listdir(path):\n",
    "        if file != \".DS_Store\":\n",
    "            al_path_list.append(\"selected_images/image_alpha/\" + file)\n",
    "            fg_path_list.append(\"selected_images/image_foreground/\" + file)\n",
    "    \n",
    "    ###background\n",
    "    bg_path_list = []\n",
    "    \n",
    "    for file in os.listdir(bg_path):\n",
    "        if file != \".DS_Store\":\n",
    "            bg_path_list.append(\"selected_images/1000_background/\" + file)\n",
    "        \n",
    "    return al_path_list, fg_path_list, bg_path_list\n",
    "        \n",
    "fgDir = \"/home/xiufeng/Code/selected_images/image_foreground/\"\n",
    "alDir = \"/home/xiufeng/Code/selected_images/image_alpha/\"\n",
    "bgDir = \"/home/xiufeng/Code/selected_images/1000_background/\"       \n",
    "\n",
    "al_list_name, fg_list_name, bg_list_name = listdir(alDir, bgDir)\n",
    "\n",
    "with open('/home/xiufeng/Code/train_alpha.txt', \"w\") as f:\n",
    "    write = ''\n",
    "    for i in al_list_name:\n",
    "        write = write + str(i) + \"\\n\"\n",
    "    f.write(write)\n",
    "    \n",
    "with open('/home/xiufeng/Code/train_fg.txt', \"w\") as f:\n",
    "    write = ''\n",
    "    for i in fg_list_name:\n",
    "        write = write + str(i) + \"\\n\"\n",
    "    f.write(write)\n",
    "    \n",
    "with open('/home/xiufeng/Code/train_bg.txt', 'w') as f:\n",
    "    write = ''\n",
    "    for i in bg_list_name:\n",
    "        write = write + str(i) + \"\\n\"\n",
    "    f.write(write)"
   ]
  },
  {
   "cell_type": "code",
   "execution_count": 8,
   "metadata": {},
   "outputs": [
    {
     "name": "stdout",
     "output_type": "stream",
     "text": [
      "(1080, 593)\n",
      "(1080, 593)\n",
      "[[ True  True  True ...  True  True  True]\n",
      " [ True  True  True ...  True  True  True]\n",
      " [ True  True  True ...  True  True  True]\n",
      " ...\n",
      " [ True  True  True ...  True  True  True]\n",
      " [ True  True  True ...  True  True  True]\n",
      " [ True  True  True ...  True  True  True]]\n",
      "(1080, 593, 3)\n"
     ]
    }
   ],
   "source": [
    "import cv2\n",
    "import os\n",
    "import math\n",
    "import numbers\n",
    "import random\n",
    "import logging\n",
    "import numpy as np\n",
    "\n",
    "import torch\n",
    "from torch.utils.data import Dataset\n",
    "import torchvision.transforms.functional as F\n",
    "from torchvision import transforms\n",
    "import PIL.Image as Image\n",
    "import pickle\n",
    "import matplotlib.pyplot as plt\n",
    "\n",
    "# img = cv2.imread(\"/home/xiufeng/Code/selected_images/1000_selected_images/6926d302bcd17aed080e63886eecfa8be379137ee38714f06e037cce08ae30e9.png\")\n",
    "# # print(img)\n",
    "# print(img.shape)\n",
    "\n",
    "# alpha = cv2.imread(\"/home/xiufeng/Code/selected_images/image_alpha/6926d302bcd17aed080e63886eecfa8be379137ee38714f06e037cce08ae30e9.jpg\")\n",
    "\n",
    "# print(alpha.shape)\n",
    "\n",
    "im = Image.open(\"/home/xiufeng/Code/selected_images/image_alpha/6926d302bcd17aed080e63886eecfa8be379137ee38714f06e037cce08ae30e9.jpg\")\n",
    "im_array = np.array(im)\n",
    "print(im_array.shape)\n",
    "im_array_al = cv2.imread(\"/home/xiufeng/Code/selected_images/image_alpha/6926d302bcd17aed080e63886eecfa8be379137ee38714f06e037cce08ae30e9.jpg\", 0)\n",
    "print(im_array_al.shape)\n",
    "print(im_array == im_array_al)\n",
    "\n",
    "im = Image.open(\"/home/xiufeng/Code/selected_images/image_foreground/6926d302bcd17aed080e63886eecfa8be379137ee38714f06e037cce08ae30e9.jpg\")\n",
    "im_array = np.array(im)\n",
    "print(im_array.shape)\n",
    "\n",
    "# plt.imshow(img, cmap='gray')\n",
    "# plt.show()"
   ]
  },
  {
   "attachments": {},
   "cell_type": "markdown",
   "metadata": {},
   "source": [
    "### select test images"
   ]
  },
  {
   "cell_type": "code",
   "execution_count": 15,
   "metadata": {},
   "outputs": [],
   "source": [
    "import os, random, shutil\n",
    "import cv2\n",
    "import sys\n",
    "import re\n",
    "from PIL import Image\n",
    "import numpy as np\n",
    "# extract file path and save to a txt file\n",
    "alpha_list = []\n",
    "for file in os.listdir(\"/home/xiufeng/Code/test_set/alpha_hair\"):\n",
    "    if file != \".DS_Store\":\n",
    "        alpha_list.append(file)\n",
    "        \n",
    "# image_list = []\n",
    "# for file in os.listdir(\"/home/xiufeng/Code/test_set/merged_hair\"):\n",
    "#     if file != \".DS_Store\":\n",
    "#         image_list.append(\"test_set/merged_hair/\" + file)\n",
    "        \n",
    "# trimaps_list = []\n",
    "# for file in os.listdir(\"/home/xiufeng/Code/test_set/trimaps_hair\"):\n",
    "#     if file != \".DS_Store\":\n",
    "#         trimaps_list.append(\"test_set/trimaps_hair/\" + file)\n",
    "      \n",
    "        \n",
    "with open('/home/xiufeng/Code/test.txt', \"w\") as f:\n",
    "    write = ''\n",
    "    for name in alpha_list:\n",
    "        for i in range(20):\n",
    "            write += \"test_set/merged_hair/\" + str(name[:-4]) + \"_\" + str(i) + \".png\" + \"\\t\" + \"test_set/alpha_hair/\" + name + \"\\t\" + \"test_set/trimaps_hair/\" + str(name[:-4]) + \"_\" + str(i) +  \".png\" + \"\\n\"\n",
    "    f.write(write)\n",
    "    \n"
   ]
  },
  {
   "cell_type": "code",
   "execution_count": 18,
   "metadata": {},
   "outputs": [
    {
     "name": "stdout",
     "output_type": "stream",
     "text": [
      "test_set/merged_hair/boy-1518482_1920_0.png\n",
      "test_set/alpha_hair/boy-1518482_1920.png\n",
      "test_set/trimaps_hair/boy-1518482_1920_0.png\n",
      "/home/xiufeng/Code/test_set/merged_hair/boy-1518482_1920_0.png\n",
      "/home/xiufeng/Code/test_set/alpha_hair/boy-1518482_1920.png\n",
      "/home/xiufeng/Code/test_set/trimaps_hair/boy-1518482_1920_0.png\n"
     ]
    }
   ],
   "source": [
    "test_list = np.array([name.split('\\t') for name in open(\"/home/xiufeng/Code/test.txt\").read().splitlines()])\n",
    "print(test_list[0][0])\n",
    "print(test_list[0][1])\n",
    "print(test_list[0][2])\n",
    "\n",
    "data_dir = \"/home/xiufeng/Code\"\n",
    "print(os.path.join(data_dir, test_list[0][0]))\n",
    "print(os.path.join(data_dir, test_list[0][1]))\n",
    "print(os.path.join(data_dir, test_list[0][2]))\n",
    "\n",
    "for idx in range(10):\n",
    "    image = cv2.imread(os.path.join(data_dir, test_list[idx][0])) #读取image\n",
    "    alpha = cv2.imread(os.path.join(data_dir, test_list[idx][1]), 0).astype(np.float32) / 255. #读取alpha\n",
    "    alpha = alpha[:, :, 0] if alpha.ndim == 3 else alpha #如果alpha是3维的，就把它变成2维的\n",
    "    trimap = cv2.imread(os.path.join(data_dir, test_list[idx][2]), 0) #读取trimap\n",
    "    image_name = os.path.split(test_list[idx][0])[-1] #image_name是image的名字\n",
    "\n",
    "    sample = {'image': image, 'alpha': alpha, 'trimap': trimap} #sample是一个字典，里面包含image, alpha, trimap\n",
    "\n",
    "# print(sample)\n"
   ]
  },
  {
   "cell_type": "code",
   "execution_count": 3,
   "metadata": {},
   "outputs": [
    {
     "name": "stdout",
     "output_type": "stream",
     "text": [
      "['o_adfe7dcc', 'o_46818bea', 'o_ba1efe3b', 'o_6d345648', 'o_d8b96fe7']\n"
     ]
    }
   ],
   "source": [
    "import json\n",
    "with open(\"./AIM-500/aim_category_type.json\", \"r\") as json_file:\n",
    "    data = json.load(json_file)\n",
    "    \n",
    "image_names = []\n",
    "for key in data:\n",
    "    if data[key][\"category\"] == \"animal\" or data[key][\"category\"] == \"portrait\" or data[key][\"category\"] == \"toy\":\n",
    "        image_names.append(key)\n",
    "\n",
    "print(image_names[:5])\n",
    "\n",
    "unique_names = list(set(image_names))"
   ]
  },
  {
   "cell_type": "code",
   "execution_count": 5,
   "metadata": {},
   "outputs": [],
   "source": [
    "with open('/home/xiufeng/Code/test.txt', \"a+\") as f:\n",
    "    write = ''\n",
    "    for name in unique_names:\n",
    "        write += \"AIM-500/original/\" + name + \".jpg\" + \"\\t\" + \"AIM-500/mask/\" + name + \".png\" + \"\\t\" + \"AIM-500/trimap/\" + name +  \".png\" + \"\\n\"\n",
    "    f.write(write)"
   ]
  }
 ],
 "metadata": {
  "kernelspec": {
   "display_name": "pytorch",
   "language": "python",
   "name": "python3"
  },
  "language_info": {
   "codemirror_mode": {
    "name": "ipython",
    "version": 3
   },
   "file_extension": ".py",
   "mimetype": "text/x-python",
   "name": "python",
   "nbconvert_exporter": "python",
   "pygments_lexer": "ipython3",
   "version": "3.7.15 (default, Nov 24 2022, 21:12:53) \n[GCC 11.2.0]"
  },
  "orig_nbformat": 4,
  "vscode": {
   "interpreter": {
    "hash": "1624c84e230f9acbbc73e7e331a37ed5444cce9bf59d0e543ceaf376aa4bf3ca"
   }
  }
 },
 "nbformat": 4,
 "nbformat_minor": 2
}
